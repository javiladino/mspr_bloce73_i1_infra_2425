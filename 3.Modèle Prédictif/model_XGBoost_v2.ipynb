{
  "nbformat": 4,
  "nbformat_minor": 0,
  "metadata": {
    "colab": {
      "provenance": []
    },
    "kernelspec": {
      "name": "python3",
      "display_name": "Python 3"
    },
    "language_info": {
      "name": "python"
    }
  },
  "cells": [
    {
      "cell_type": "markdown",
      "source": [
        "## XGBoost"
      ],
      "metadata": {
        "id": "6CReqKXXRb-_"
      }
    },
    {
      "cell_type": "code",
      "source": [
        "!pip install --upgrade scikit-learn\n",
        "import pandas as pd\n",
        "import numpy as np\n",
        "import xgboost as xgb\n",
        "from sklearn.model_selection import train_test_split\n",
        "from sklearn.preprocessing import StandardScaler, OneHotEncoder\n",
        "from sklearn.metrics import r2_score, mean_squared_error\n",
        "\n",
        "# Charger les données\n",
        "file_path = \"df_merged_bretagne_filtre.csv\"\n",
        "df = pd.read_csv(file_path, sep=None, engine=\"python\")\n",
        "\n",
        "# Nettoyer les noms des colonnes\n",
        "df.columns = (\n",
        "    df.columns.str.strip()\n",
        "    .str.lower()\n",
        "    .str.replace(\" \", \"_\")\n",
        "    .str.replace(\"%\", \"pct\")\n",
        "    .str.replace(\"é\", \"e\")\n",
        ")\n",
        "\n",
        "# Convertir les valeurs numériques\n",
        "for col in df.select_dtypes(include=[\"object\"]).columns:\n",
        "    if col not in [\"nom_prenom\", \"parti_politique\", \"couleur_politique\"]:  # Éviter de convertir le texte\n",
        "        df[col] = df[col].str.replace(\",\", \".\").str.replace(\" \", \"\")\n",
        "        df[col] = pd.to_numeric(df[col], errors=\"coerce\")  # 'coerce' convertit les erreurs en NaN\n",
        "\n",
        "# Encoder les variables catégoriques avec One-Hot Encoding\n",
        "df = pd.get_dummies(df, columns=[\"parti_politique\", \"couleur_politique\"], drop_first=True)\n",
        "\n",
        "# Sélectionner les variables prédictives et la variable cible\n",
        "X = df.drop(columns=[\"pct_voix_obtenu\", \"nom_prenom\"])  # Supprimer le texte inutile\n",
        "y = df[\"pct_voix_obtenu\"]\n",
        "\n",
        "# Normaliser les données numériques\n",
        "scaler = StandardScaler()\n",
        "X_scaled = scaler.fit_transform(X)\n",
        "\n",
        "# Diviser les données en ensembles d'entraînement et de test\n",
        "X_train, X_test, y_train, y_test = train_test_split(X_scaled, y, test_size=0.2, random_state=42)\n",
        "\n",
        "# Entraîner le modèle XGBoost\n",
        "xgb_model = xgb.XGBRegressor(n_estimators=200, max_depth=10, learning_rate=0.1, random_state=42)\n",
        "xgb_model.fit(X_train, y_train)\n",
        "\n",
        "# Faire des prédictions\n",
        "y_pred_xgb = xgb_model.predict(X_test)\n",
        "\n",
        "# Évaluer le modèle\n",
        "r2_xgb = r2_score(y_test, y_pred_xgb)\n",
        "# Calculer la RMSE manuellement\n",
        "mse_xgb = mean_squared_error(y_test, y_pred_xgb)  # Calculer la MSE\n",
        "rmse_xgb = np.sqrt(mse_xgb)  # Calculer la RMSE à partir de la MSE\n",
        "\n",
        "print(f\"XGBoost - R²: {r2_xgb:.4f}\")\n",
        "print(f\"XGBoost - RMSE: {rmse_xgb:.4f}\")\n"
      ],
      "metadata": {
        "colab": {
          "base_uri": "https://localhost:8080/"
        },
        "id": "xEK9ZeBYRPYc",
        "outputId": "8c10413c-f2b7-42df-c355-40dce6f926e4"
      },
      "execution_count": null,
      "outputs": [
        {
          "output_type": "stream",
          "name": "stdout",
          "text": [
            "Requirement already satisfied: scikit-learn in /usr/local/lib/python3.11/dist-packages (1.6.1)\n",
            "Requirement already satisfied: numpy>=1.19.5 in /usr/local/lib/python3.11/dist-packages (from scikit-learn) (2.0.2)\n",
            "Requirement already satisfied: scipy>=1.6.0 in /usr/local/lib/python3.11/dist-packages (from scikit-learn) (1.14.1)\n",
            "Requirement already satisfied: joblib>=1.2.0 in /usr/local/lib/python3.11/dist-packages (from scikit-learn) (1.4.2)\n",
            "Requirement already satisfied: threadpoolctl>=3.1.0 in /usr/local/lib/python3.11/dist-packages (from scikit-learn) (3.6.0)\n",
            "XGBoost - R²: 0.8619\n",
            "XGBoost - RMSE: 6.4236\n"
          ]
        }
      ]
    }
  ]
}